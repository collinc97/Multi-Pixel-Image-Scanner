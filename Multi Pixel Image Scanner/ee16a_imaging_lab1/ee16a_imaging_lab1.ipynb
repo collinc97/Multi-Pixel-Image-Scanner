{
 "cells": [
  {
   "cell_type": "markdown",
   "metadata": {},
   "source": [
    "# Imaging Lab 1: Building a Light Sensor\n",
    "\n",
    "### EECS 16A: Designing Information Devices and Systems I, Spring 2016"
   ]
  },
  {
   "cell_type": "markdown",
   "metadata": {},
   "source": [
    "**Name 1**:\n",
    "\n",
    "**Login**: ee16a-\n",
    "\n",
    "\n",
    "**Name 2**:\n",
    "\n",
    "**Login**: ee16a-"
   ]
  },
  {
   "cell_type": "markdown",
   "metadata": {},
   "source": [
    "\n",
    "## Table of Contents\n",
    "\n",
    "* [Instructions](#instructions)\n",
    "* [Lab Policies](#policies)\n",
    "* [Obtain a Lab Kit](#kit)\n",
    "* [Introduction](#intro)\n",
    "  * [System Overview](#overview)\n",
    "  * [Review: Circuit Symbols and Concepts](#review)\n",
    "* [Task 1: Measuring a Voltage Across The Solar Cell](#task1)\n",
    "* [Task 2: Building the Sensor](#task2)\n",
    "* [Task 3: Introduction to the MSP430](#task3)\n",
    "* [Additional Resources](#extra)\n",
    "* [Checkoff](#checkoff)"
   ]
  },
  {
   "cell_type": "markdown",
   "metadata": {},
   "source": [
    "<a id='instructions'></a>\n",
    "##Instructions\n",
    "* Complete this lab by filling in all of the required sections, marked with `\"YOUR CODE HERE\"` or `\"YOUR COMMENTS HERE\"`.\n",
    "\n",
    "\n",
    "* When you finish notify your GSI to get checked off for this lab. Be ready to answer a few questions to show your understanding of each section.\n",
    "\n",
    "\n",
    "* Labs will be graded based on completion for teams of 2 students.\n",
    "\n",
    "\n",
    "\n",
    "\n",
    "\n"
   ]
  },
  {
   "cell_type": "markdown",
   "metadata": {},
   "source": [
    "<a id='policies'></a>\n",
    "## Lab Policies\n",
    "* YOU MUST ATTEND THE LAB SECTION YOU ARE ENROLLED IN. If you anticipate missing a section please notify your GSI in advance.\n",
    "\n",
    "* You are required to return all parts checked out at the beginning of the lab section unless told otherwise.\n",
    "\n",
    "* You are free to stay for the full allotted time and hack around with the lab equipment, but please keep the GSI's time in mind and do not work on unrelated assignments.\n",
    "\n",
    "* ** Food and drinks are not allowed in the lab.**\n",
    "\n",
    "* **Clean up, turn off all equipment, and log off of computers before leaving.**"
   ]
  },
  {
   "cell_type": "markdown",
   "metadata": {},
   "source": [
    "<a id='kit'></a>\n",
    "## Obtain a Lab Kit\n",
    "The lab staff will be handing out lab kits. Make sure to get one (and only one). It is your responsibility to **bring these kits to every lab session.** Everything in the kit, including the TI Launchpad MSP430 is yours to keep. That being said, if you lose anything or something breaks, we can supply you with replacement parts, however, you will have to pay for the replacement parts."
   ]
  },
  {
   "cell_type": "markdown",
   "metadata": {},
   "source": [
    "<a id='intro'></a>\n",
    "## Introduction\n",
    "Welcome to the first of three imaging module labs! The goal of this module is to build the imaging system introduced in [Lecture 2](http://inst.eecs.berkeley.edu/~ee16a/fa15/lecture/imaging_intro.pptx). The physical components of this system include a projector, a solar cell, a sensing circuit, and a [TI MSP430](http://www.ti.com/ww/en/launchpad/launchpad.html?DCMP=rtos&HQS=ep-sdo-rtos-pr-lp-launchpad-en) microcontroller. The completed setup of the imaging system is shown below in figure 1. \n",
    "<br><br>\n",
    "<center>\n",
    "<img src=\"http://inst.eecs.berkeley.edu/~ee16a/images/imaging_img/proj_prof.png\" style=\"height:256px\" />\n",
    "<figcaption>Figure 1</figcaption>\n",
    "</center>\n",
    "\n",
    "<a id='overview'></a>\n",
    "### System Overview\n",
    "Figure 2 is a high-level block model of our imaging system: 1) The solar cell receives photons reflecting off of an object and outputs a voltage signal. 2) This signal travels through a circuit to \"improve\" the quality of the signal. 3) A computer (in this case a microcontroller) reads this improved circuit and coverts what it sees to a digital representation of the object being imaged. 4) Further improvements are made via software to increase the quality of the image.\n",
    "<br><br>\n",
    "<center>\n",
    "<img src=\"http://inst.eecs.berkeley.edu/~ee16a/images/imaging_img/block_diagram_MSP.png\" style=\"height:256px\" />\n",
    "<figcaption>Figure 2</figcaption>\n",
    "</center>\n",
    "\n",
    "Digital images are composed of a grid of [pixels](http://en.wikipedia.org/wiki/Pixel), each of which represents a single color. To create a digital representation, optical imaging systems measure the energy, equivalent to light in this case, reflected off of objects to determine the values of these pixels. Because different colors reflect different amounts of light, measurements of reflected light intensity can be used to differentiate between colors.\n",
    "<br/><br/>\n",
    "\n",
    "<center>\n",
    "<img src=\"http://www-inst.eecs.berkeley.edu/~ee16a/sp15/Labs/imaging/nb_img/concept_diagram.png\" style=\"height:256px\" />\n",
    "<figcaption>Figure 3</figcaption>\n",
    "</center>\n",
    "\n",
    "Commercial cameras, such as those found in smartphones, use chips called CMOS image sensors to measure millions of pixel values at a time (think of this as millions of devices akin to the solar cell that all fit on an approximately 30mm$^2$ chip). In contrast, our system can only measure one light intensity value at a time, so we will instead use a controlled energy source, the projector, to illuminate specific regions of the image one region at a time. We then use the solar cell to record the energy that reflects off of each region.\n",
    "<br/><br/>\n",
    "\n",
    "The solar cell converts light to induce a flow of electrons, and the circuit then outputs a voltage corresponding to light intensity. The specific configuration of the circuit sets the solar cell up so it is most sensitive to changes in light. \n",
    "<br/><br/>\n",
    "\n",
    "This changing voltage is now a set of real numbers and much closer to something we can use to represent our image on a computer. We use a microcontroller(TI Launchpad MSP430) to take samples of the signal and convert it to a set of numbers we can then use in IPython.\n",
    "<br/>\n",
    "<a id='review'></a>\n",
    "### Review: Circuit Symbols and Concepts\n",
    "Table 4 shows the circuit symbols relevant to this lab and a picture of the real component they represent. Don't feel intimated if you don't know what these things are. ** At this point in the course, you are NOT expected to know what these components are or what their function is. ** You will eventually master these components during the circuits part of 16A. But if you're curious and need to know now, Wikipedia is your friend in this case.\n",
    "<br>\n",
    "<center>\n",
    "<img src=\"http://www-inst.eecs.berkeley.edu/~ee16a/sp15/Labs/imaging/nb_img/circuit_symbols.png\" align=\"center\" style=\"height:256px\"/>\n",
    "<figcaption>Table 4</figcaption>\n",
    "</center>\n",
    "<br/>\n",
    "Remember that a voltage is defined as a difference in electric potential between two points. For example, the voltage source we will be using in this lab has a potential difference of +3.3V between the positive and negative terminals of the source. Because a voltage requires two points to define, it is often convenient to define a common point in a circuit as a reference. This reference voltage, commonly referred to as \"ground\" is defined by convention to be 0V, and therefore allows us to conveniently describe voltages at any point in the circuit with respect to 0.  \n",
    "<br/>"
   ]
  },
  {
   "cell_type": "markdown",
   "metadata": {},
   "source": [
    "<a id='task1'></a>\n",
    "##<span style=\"color:blue\">Task 1: Measuring Voltage Across the Solar Cell</span>\n",
    "#### Materials & Equipment\n",
    "* Solar cell - (station box)\n",
    "* Oscilloscope probe (back wall)\n",
    "\n",
    "Use the schematic in Figure 5 and the oscilloscope to measure the output of the solar cell in different lighting conditions (the power supply is not needed). Compare the waveform on the oscilloscope when you cover the cell completely with the waveform measured under ambient light. \n",
    "**Tips:**\n",
    "* Remember to test your Oscope probe! \n",
    "* Remember the handy auto-scale button.\n",
    "* The (+) and (-) are denoted on the back of the solar cell. DO NOT assume that red/white is (+) and black/blue is (-).\n",
    "* The black alligator clip on the Oscope probe is the (-) terminal.\n",
    "* Look closely at the (+)/(-) signs for each connection.\n",
    "<center>\n",
    "<img src=\"http://inst.eecs.berkeley.edu/~ee16a/images/imaging_img/sol_cell_hookup.png\" align=\"center\" style=\"height:256px\" />\n",
    "<figcaption>Figure 5</figcaption>\n",
    "</center>"
   ]
  },
  {
   "cell_type": "markdown",
   "metadata": {},
   "source": [
    "**<span style=\"color:red\">How does the voltage value of the waveform on the oscilloscope vary with light intensity?</span>**"
   ]
  },
  {
   "cell_type": "markdown",
   "metadata": {},
   "source": [
    "YOUR COMMENTS HERE"
   ]
  },
  {
   "cell_type": "markdown",
   "metadata": {},
   "source": [
    "**<span style=\"color:red\">What is the average voltage of the cell in ambient light? </span>**"
   ]
  },
  {
   "cell_type": "markdown",
   "metadata": {},
   "source": [
    "YOUR COMMENTS HERE"
   ]
  },
  {
   "cell_type": "markdown",
   "metadata": {},
   "source": [
    "**<span style=\"color:red\">Use the oscilloscope to zoom in to 50-100 mV/division. What do you notice about the waveform? How does it differ from what you would expect an ideal device to look like? </span>**"
   ]
  },
  {
   "cell_type": "markdown",
   "metadata": {},
   "source": [
    "YOUR COMMENTS HERE"
   ]
  },
  {
   "cell_type": "markdown",
   "metadata": {},
   "source": [
    "<a id='task2'></a>\n",
    "##<span style=\"color:blue\">Task 2: Building the Sensor</span>\n",
    "\n",
    "#### Materials & Equipment\n",
    "* Breadboard - (kit)\n",
    "* Breadboard wires - (kit / GSI desk)\n",
    "* 0.1 $\\mu$F capacitor - (kit) **It will have a tiny 104 label on it**\n",
    "* 100 k$\\Omega$ resistor - (kit) **Brown-Black-Yellow-Gold**\n",
    "* 2 Power Supply leads - (back wall)\n",
    "* Oscilloscope + probe - (back wall)\n",
    "\n",
    "We will use the breadboard to construct the circuit shown below, then use the oscilloscope to measure the output between the points (+) and (-). The breadboard wires can be found in your packet or on the GSI desk. If you use the ones on the GSI desk, grab a handful and make sure to return the extras when you are done. There are wire strippers at your station as well.\n",
    "\n",
    "<center>\n",
    "<img src=\"http://inst.eecs.berkeley.edu/~ee16a/images/imaging_img/SolarCell%20Circuit.png\" align=\"center\" style=\"height:256px\" />\n",
    "<figcaption>Figure 6</figcaption>\n",
    "</center>\n",
    "\n",
    "<ol>\n",
    "<li> Place the breadboard in front of you. As a reminder, figure 7 shows the connections within the board. Treat each row in the board as a connection or wire.\n",
    "<center>\n",
    "<img src=\"http://www-inst.eecs.berkeley.edu/~ee16a/sp15/Labs/imaging/nb_img/breadboard.png\" align=\"center\" style=\"height:300px\" />\n",
    "<figcaption>Figure 7</figcaption>\n",
    "</center>\n",
    "\n",
    "<li> Because this circuit only requires 5V, we will be using the +6V terminals on the Power Supply. These are the left two most knobs plugs on the Power Supply. \n",
    "    <ol>\n",
    "        <li> Set the Power Supply current limit to 0.100A. Do NOT turn the output on. \n",
    "<center>\n",
    "<img src=\"http://inst.eecs.berkeley.edu/~ee16a/images/lab0/current-limit.gif\" align=\"center\" style=\"height:280px\" />\n",
    "<figcaption>Figure 8</figcaption>\n",
    "</center>\n",
    "        <li> Plug the Power Supply wires into the left two sockets at the bottom of the device which are labeled `6V`. A red wire should be used for the positive socket and a black wire should be used for the negative socket.\n",
    "        <li> Hook the other end of the positive Power Supply wire to a breadboard wire. Plug the free end of the breadboard wire to any hole in the second column from the right. There should be a (`+`) on top of this column and a red strip next to it. This entire column is now connected to the positive terminal of the . When two things are connected to this same column, it is the same as connecting those two objects by wire.\n",
    "        <li> Repeat part 2C with the negative terminal of the 6V Power Supply with a different breadboard wire. Plug this wire to any hole in the first column on the right on your breadboard. There should be a (`-`) on the top of this column and a blue strip next to it.\n",
    "        <li> Click the `+6V` button and set the voltage to 5.00$V$.\n",
    "    </ol>\n",
    "<li> Take the solar cell. Connect the negative wire to a hole connected to `5V`. Connect the positive wire to any hole in the second row from the top of the breadboard.\n",
    "<li> Take the 0.1 $\\mu$F capacitor and connect one side to the same row as the red solar cell wire.  Connect the other side to any other row.\n",
    "<li> Find the 100 k$\\Omega$ resistor. Resistor values are denoted by the colored bands. 100 k$\\Omega$ resistor has Brown, Black, Yellow, and Gold on it. Connect one side to the same row as the red wire of the solar cell. Connect the other side to the same row as the other side of capacitor. \n",
    "<li> Take a wire and connect one side to the row with only the resistor and capacitor connected. Connect the other side of this wire to the negative column (Column with `-` on top and blue stripe)\n",
    "\n",
    "</ol>\n",
    "\n",
    "You're finished with building the circuit! Next, turn on the oscilloscope and hook up the probe such that the probe hook is connected in the row with the red solar cell wire, capacitor, and resistor. If such a row does not exist for you, double check your circuit. The black clip on the oscilloscope probe should be connected to the negative column. \n",
    "\n",
    "The final circuit should look something like figure 9.\n",
    "<center>\n",
    "<img src=\"http://inst.eecs.berkeley.edu/~ee16a/images/imaging_img/imaging_circuit.png\" align=\"center\" style=\"height:280px\" />\n",
    "<figcaption>Figure 9</figcaption>\n",
    "</center>"
   ]
  },
  {
   "cell_type": "markdown",
   "metadata": {},
   "source": [
    "**<span style=\"color:red\">How does the waveform differ from the one you saw in [Task 1](#task1)?</span>**"
   ]
  },
  {
   "cell_type": "markdown",
   "metadata": {},
   "source": [
    "YOUR COMMENTS HERE"
   ]
  },
  {
   "cell_type": "markdown",
   "metadata": {},
   "source": [
    "**<span style=\"color:red\">How is this difference useful in the context of building an imaging system? </span>**"
   ]
  },
  {
   "cell_type": "markdown",
   "metadata": {},
   "source": [
    "YOUR COMMENTS HERE"
   ]
  },
  {
   "cell_type": "markdown",
   "metadata": {},
   "source": [
    "<a id='task3'></a>\n",
    "## <span style=\"color:blue\">Task 3: Introduction to the TI MSP430 Launchpad</span>\n",
    "\n",
    "The MSP430 is a popular [microcontroller](http://en.wikipedia.org/wiki/Microcontroller), a small computer on a single chip. Microcontrollers are found at the heart of all embedded devices and have enough processing power to perform simple tasks using very little power. Because of its limited processing capabilities, the MSP430 doesn't run an operating system like desktop computers or servers. Instead, the device executes a single function continuously in a loop when it is powered on. For this module, our program needs to read a voltage value and send it to a computer via the USB connection. We will now walk through the process of using a MSP430 and uploading code to it.\n",
    "\n",
    "Note: The MSP430 is produced by Texas Instruments and comes in many flavors. The model we will be using throughout the semester is the MSP430F5529. This is the model number you will want to reference whenever prompted.\n",
    "\n",
    "#### Materials\n",
    "* MSP430F5529 - (kit)\n",
    "* USB cable - (kit / station box)\n",
    "* Station computer\n",
    "\n",
    "\n",
    "1. Use a USB cable (short one included in the MSP430 box, long one in the station box) to connect the MSP430 to your computer. Verify that the green LED near the USB port on the MSP430 lights up once it's connected to the computer.\n",
    "<br/><br/>\n",
    "<center>\n",
    "<img src=\"http://inst.eecs.berkeley.edu/~ee16a/images/imaging_img/MSP430.png\" align=\"center\" style=\"height:256px\" />\n",
    "</center>\n",
    "<br/>\n",
    "2. Open Energia on your desktop (there should be a desktop icon that looks like a rocket ship):\n",
    "Energia is a software program used to compile and upload code to the microcontroller. If you have ever programmed an Arduino, you'll notice the environment is nearly identical.\n",
    "<br/><br/>\n",
    "<center>\n",
    "<img src=\"http://inst.eecs.berkeley.edu/~ee16a/images/imaging_img/Energia_Screenshot.png\" align=\"center\" style=\"height:400px\" />\n",
    "</center>\n",
    "<br/>\n",
    "\n",
    "3. Select \"Tools > Board > MSP430F5529 (25 MHz)\":\n",
    "This software supports a wide variety of MSP430 boards, some of which have different chips. In order to make sure that code is uploaded to the proper device, we need to make sure we have specified we are using the F5529 model. Additionally, you'll notice that there are two options for the F5529, a 16 MHz and 25 MHz option. We want the 25 MHz option. For the curious, the 16 Mhz option is to access the on-board debugger chip.\n",
    "<br/><br/>\n",
    "<center>\n",
    "<img src=\"http://inst.eecs.berkeley.edu/~ee16a/images/imaging_img/Energia_board.png\" align=\"center\" style=\"height:400px\" />\n",
    "</center>\n",
    "<br/>\n",
    "\n",
    "4. Selecting the right serial port:\n",
    "The MSP430 uses a serial interface to communicate with computers. In order to upload code to the device we have to select the serial port that the MSP430 is connected to. On the lab computers there should be three options, \"COM1\" and then two others. Use the Windows device manager to figure out which COM port is connected to UART.\n",
    "\n",
    "  If at any time you are unable to upload code or communicate with the MSP430, use this menu to check if the port is still recognized. If no options appear in this menu, try unplugging the MSP430 and plugging it back in.\n",
    "<br/><br/>\n",
    "<center>\n",
    "<img src=\"http://inst.eecs.berkeley.edu/~ee16a/images/imaging_img/Energia_serial_port.png\" align=\"center\" style=\"height:400px\" />\n",
    "</center>\n",
    "<br/>\n",
    "\n",
    "5. Open the file \"LightSensor.ino\" (included in the lab zip file):\n",
    "Note that the MSP430 requires that the \".ino\" source file be placed in a folder with the same name. This file has code to periodically read the voltage of pin \"P6.0\" and send this data over serial to a computer.\n",
    "<br/><br/>\n",
    "\n",
    "6. Click the \"Upload\" button:\n",
    "This should compile and upload code to the MSP430. You will most likely get an error message prompting you to \"Update the Programmer.\" You will see this error whenever connecting the MSP430 to a computer different than the one it was previously connected to (or connecting it for the first time). To resolve this issue simply go to \"Tools>Update Programmer\". Then re-upload the desired code file. Once the \"Done Uploading\" message is displayed, the MSP430 will repeatedly execute the code whenever it is powered on. Even though the \"Programming successful\" message is displayed, it is good practice to reset the MSP430 <em>EVERYTIME</em> you upload to it. To do this simply press the pushbutton named \"RST\".\n",
    "<br/><br/>\n",
    "<center>\n",
    "<img src=\"http://inst.eecs.berkeley.edu/~ee16a/images/imaging_img/Energia_upload.png\" align=\"center\" style=\"height:400px\" />\n",
    "</center>\n",
    "<br/><br/>\n",
    "7. Connect the MSP430 to the sensor circuit:\n",
    "  Our goal is to use the MSP430 to replace both the Power Supply and Oscilloscope. The MSP430 is capable of supplying the 3.3V necessary to power the circuit, and can also read and send voltage values to our computer via Input / Output pins. Something to keep in mind: the MSP430 has both Male and Female connections (Male on the top side, Female on the underside).\n",
    "  * Disconnect and turn off the power supply. We wont be needing this anymore!\n",
    "  * Disconnect the oscilloscope probe. We wont be needing this either!\n",
    "  * Connect the **3V3** pin on the MSP430 (highlighted in green) to the **positive**  to the same location the positive Power Supply wire was connected to on your breadboard (most likely the red column).\n",
    "  * Connect the **GND** port (either one) on the MSP430 (highlighted in blue) to the **negative** to the same location the negative Power Supply wire was connected to on your breadboard (most likely the blue column).\n",
    "  * Connect the output of the circuit (which was previously connected to the positive terminal of the Oscope probe) with a wire to pin **P6.0** on the MSP430 (highlighted in yellow).\n",
    "<br/><br/>\n",
    "<center>\n",
    "<img src=\"http://inst.eecs.berkeley.edu/~ee16a/images/imaging_img/colored_pins.png\" align=\"center\" style=\"height:400px\" />\n",
    "</center>\n",
    "<br/><br/>\n",
    "8. Close Energia. ** Run the code block below.** This code is used select the right COM port (you'll be prompted to input the right port). Once you run the code, check your CMD window for errors. Assuming the code ran error free, you should see an icon appear on the bottom navigation bar (it will look like IP[y]:). Click on this icon.  You should see a moving plot. The vertical axis is in units of Voltage (ignore the units on the horizontal axis). Try covering part of the solar cell and see what happens to the plot."
   ]
  },
  {
   "cell_type": "code",
   "execution_count": null,
   "metadata": {
    "collapsed": false
   },
   "outputs": [],
   "source": [
    "import subprocess\n",
    "from light_sensor import serial_ports\n",
    "\n",
    "# function for getting the list of ports other than COM1\n",
    "def get_portlist():\n",
    "    ports = serial_ports()\n",
    "\n",
    "    result = []\n",
    "    if len(ports) > 1:\n",
    "        for p in ports:\n",
    "            if p != \"COM1\":\n",
    "                result.append(p)    \n",
    "    else:    \n",
    "        print(\"No serial ports other than COM1 detected. Make sure MSP430 is connected and try again.\")\n",
    "    return result\n",
    "\n",
    "portlist = get_portlist()\n",
    "\n",
    "# list the ports seen on the machine\n",
    "print(\"You have the following ports:\")\n",
    "counter = 1\n",
    "for p in portlist:\n",
    "    print(\"%i - %s\"%(counter,p))\n",
    "    counter = counter + 1\n",
    "\n",
    "# let the user choose the correct port\n",
    "index = int(input(\"Select the index of the port corresponding to MSP Application UART1 in device manager: \\n\"))\n",
    "while index > len(portlist):\n",
    "    print(\"You have only %i COM ports to choose from, please enter an index in [1, %i]\"%(len(portlist),len(portlist)))\n",
    "    index = int(input(\"Select the index of the port corresponding to MSP Application UART1 in device manager: \\n\"))\n",
    "\n",
    "# connect to the port\n",
    "subprocess.call([\"python\", \"light_sensor.py\", \"-D\", portlist[index-1]])\n",
    "    "
   ]
  },
  {
   "cell_type": "markdown",
   "metadata": {},
   "source": [
    "<a id='extra'></a>\n",
    "## Additional Resources\n",
    "Congratulations, you can now record sensor data on a computer!\n",
    "There are all kinds of exciting things you can do with this setup. Once your sensor data is accessible in Python, you can use sensor input as a cue to send a text message or tweet, start or stop programs, and more! The possibilities are endless!\n",
    "\n",
    "If you're interested applying what you've learned to your own personal projects there are a variety of spaces on campus with additional resources to support these kinds of activities: \n",
    "* [Supernode (246 Cory Hall)](http://supernode.berkeley.edu/index.php?title=Main_Page)\n",
    "* [CITRIS Invention Lab (141 Sutardja Dai Hall)](http://invent.citris-uc.org)\n",
    "* [Jacobs Hall](http://engineeringdesign.berkeley.edu/jacobs-hall/) (NOW OPEN!)"
   ]
  },
  {
   "cell_type": "markdown",
   "metadata": {},
   "source": [
    "<a id='checkoff'></a>\n",
    "## Checkoff\n",
    "When you are ready to get checked off, please type the IP address displayed by the projector into a web browser on the station desktop. Follow the form exactly and submit a checkoff request when done. If the form was filled out successfully, you should see your station number pop-up on the checkoff queue (displayed by the projector). Your GSI or a Lab Assistant will come by once they are available and go through the checkoff procedure with your group."
   ]
  }
 ],
 "metadata": {
  "kernelspec": {
   "display_name": "Python 3",
   "language": "python",
   "name": "python3"
  },
  "language_info": {
   "codemirror_mode": {
    "name": "ipython",
    "version": 3
   },
   "file_extension": ".py",
   "mimetype": "text/x-python",
   "name": "python",
   "nbconvert_exporter": "python",
   "pygments_lexer": "ipython3",
   "version": "3.4.4"
  }
 },
 "nbformat": 4,
 "nbformat_minor": 0
}
